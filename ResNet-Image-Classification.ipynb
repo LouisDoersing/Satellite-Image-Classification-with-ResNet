{
  "nbformat": 4,
  "nbformat_minor": 0,
  "metadata": {
    "colab": {
      "provenance": [],
      "gpuType": "T4"
    },
    "kernelspec": {
      "name": "python3",
      "display_name": "Python 3"
    },
    "language_info": {
      "name": "python"
    },
    "accelerator": "GPU"
  },
  "cells": [
    {
      "cell_type": "code",
      "execution_count": 29,
      "metadata": {
        "id": "CD8kTnfZyzmW"
      },
      "outputs": [],
      "source": [
        "import torch\n",
        "import torchvision\n",
        "import torchvision.transforms as transforms\n",
        "from torchvision import models\n",
        "from torch import nn, optim\n",
        "from torch.utils.data import DataLoader\n",
        "from torchvision.datasets import ImageFolder\n",
        "from torch.utils.data import Dataset, DataLoader\n",
        "from PIL import Image\n",
        "import os\n"
      ]
    },
    {
      "cell_type": "code",
      "source": [
        "class LandUseDataset(Dataset):\n",
        "    def __init__(self, csv_file=None, image_dir=None, transform=None, dataframe=None):\n",
        "        if dataframe is not None:\n",
        "            self.data = dataframe.reset_index(drop=True)\n",
        "        elif csv_file is not None:\n",
        "            self.data = pd.read_csv(csv_file)\n",
        "        else:\n",
        "            raise ValueError(\"Entweder 'csv_file' oder 'dataframe' muss übergeben werden.\")\n",
        "\n",
        "        self.image_dir = image_dir\n",
        "        self.transform = transform\n",
        "\n",
        "        self.classes = sorted(self.data['class'].unique())\n",
        "        self.class_to_idx = {label: idx for idx, label in enumerate(self.classes)}\n",
        "        self.idx_to_class = {idx: label for label, idx in self.class_to_idx.items()}\n",
        "        self.data['label_idx'] = self.data['class'].map(self.class_to_idx)\n",
        "\n",
        "    def __len__(self):\n",
        "        return len(self.data)\n",
        "\n",
        "    def __getitem__(self, idx):\n",
        "        row = self.data.iloc[idx]\n",
        "        img_path = os.path.join(self.image_dir, row['fn'])  # Achtung: 'fn' statt 'filename'\n",
        "        image = Image.open(img_path).convert('RGB')\n",
        "        label = row['label_idx']\n",
        "        if self.transform:\n",
        "            image = self.transform(image)\n",
        "        return image, label\n",
        "\n"
      ],
      "metadata": {
        "id": "txAxdJzyzyuG"
      },
      "execution_count": 46,
      "outputs": []
    },
    {
      "cell_type": "code",
      "source": [
        "from google.colab import drive\n",
        "drive.mount('/content/drive')\n"
      ],
      "metadata": {
        "colab": {
          "base_uri": "https://localhost:8080/"
        },
        "id": "VMrdIHReBJLq",
        "outputId": "0dce36da-a612-4666-ebd4-d5bc92fa85e4"
      },
      "execution_count": 63,
      "outputs": [
        {
          "output_type": "stream",
          "name": "stdout",
          "text": [
            "Mounted at /content/drive\n"
          ]
        }
      ]
    },
    {
      "cell_type": "code",
      "source": [
        "import zipfile\n",
        "import os\n",
        "\n",
        "zip_path_train = '/content/drive/MyDrive/Hackerthon2/train.zip'\n",
        "extract_path_train = '/content/imagesFinal/train'\n",
        "\n",
        "with zipfile.ZipFile(zip_path_train, 'r') as zip_ref:\n",
        "    zip_ref.extractall(extract_path_train)\n"
      ],
      "metadata": {
        "id": "EC1A7HrlBPf6"
      },
      "execution_count": 66,
      "outputs": []
    },
    {
      "cell_type": "code",
      "source": [
        "zip_path_test = '/content/drive/My Drive/Hackerthon2/test.zip'\n",
        "extract_path_test = '/content/imagesFinal/test'\n",
        "\n",
        "with zipfile.ZipFile(zip_path_test, 'r') as zip_ref:\n",
        "    zip_ref.extractall(extract_path_test)\n"
      ],
      "metadata": {
        "id": "KJ3NVkUHBnRd"
      },
      "execution_count": 67,
      "outputs": []
    },
    {
      "cell_type": "code",
      "source": [
        "print(\"Train-Dateien:\", os.listdir(extract_path_train)[:5])\n",
        "print(\"Test-Dateien:\", os.listdir(extract_path_test)[:5])\n",
        "\n",
        "train_dir = '/content/imagesFinal/train/train'\n",
        "test_dir = '/content/imagesFinal/test/test'\n",
        "\n",
        "train_files = [f for f in os.listdir(train_dir) if os.path.isfile(os.path.join(train_dir, f))]\n",
        "test_files = [f for f in os.listdir(test_dir) if os.path.isfile(os.path.join(test_dir, f))]\n",
        "\n",
        "print(f\"📁 Train-Bilder: {len(train_files)} Dateien gefunden\")\n",
        "print(f\"📁 Test-Bilder:  {len(test_files)} Dateien gefunden\")\n"
      ],
      "metadata": {
        "colab": {
          "base_uri": "https://localhost:8080/"
        },
        "id": "vc0I-x_5B8kq",
        "outputId": "6e74c7b3-4493-43ce-9b74-2240f06e6df6"
      },
      "execution_count": 70,
      "outputs": [
        {
          "output_type": "stream",
          "name": "stdout",
          "text": [
            "Train-Dateien: ['train', '__MACOSX']\n",
            "Test-Dateien: ['test', '__MACOSX']\n",
            "📁 Train-Bilder: 18000 Dateien gefunden\n",
            "📁 Test-Bilder:  9000 Dateien gefunden\n"
          ]
        }
      ]
    },
    {
      "cell_type": "code",
      "source": [
        "import pandas as pd\n",
        "\n",
        "df = pd.read_csv('/content/train.csv')\n",
        "print(df.columns)\n",
        "print(df.head())\n",
        "print(len(df))"
      ],
      "metadata": {
        "colab": {
          "base_uri": "https://localhost:8080/"
        },
        "id": "TuIsX-7R17EV",
        "outputId": "baa6c07e-cb79-4ac4-936a-7fde982b4b1a"
      },
      "execution_count": 71,
      "outputs": [
        {
          "output_type": "stream",
          "name": "stdout",
          "text": [
            "Index(['fn', 'class'], dtype='object')\n",
            "      fn                 class\n",
            "0  1.jpg                Forest\n",
            "1  2.jpg                 River\n",
            "2  3.jpg               Pasture\n",
            "3  4.jpg                 River\n",
            "4  5.jpg  HerbaceousVegetation\n",
            "18000\n"
          ]
        }
      ]
    },
    {
      "cell_type": "code",
      "source": [
        "# ----- 2. Bildtransformationen -----\n",
        "transform = transforms.Compose([\n",
        "    transforms.Resize((224, 224)),\n",
        "    transforms.RandomHorizontalFlip(),\n",
        "    transforms.RandomVerticalFlip(),\n",
        "    transforms.RandomRotation(30),\n",
        "    transforms.ColorJitter(brightness=0.3, contrast=0.3, saturation=0.3),\n",
        "    transforms.ToTensor(),\n",
        "    transforms.Normalize([0.485, 0.456, 0.406],\n",
        "                         [0.229, 0.224, 0.225])\n",
        "])\n",
        "\n",
        "\n",
        "# ----- 3. Dataset + DataLoader -----\n",
        "csv_path = '/content/train.csv'\n",
        "image_dir = '/content/imagesFinal/train/train'  # Pfad zu deinem Bildordner in Colab\n",
        "\n",
        "train_dataset = LandUseDataset(\n",
        "    csv_file=csv_path,\n",
        "    image_dir=image_dir,\n",
        "    transform=transform\n",
        ")\n",
        "\n",
        "train_loader = DataLoader(train_dataset, batch_size=64, shuffle=True)\n",
        "\n",
        "\n"
      ],
      "metadata": {
        "id": "oFoG3m5Iy532"
      },
      "execution_count": 90,
      "outputs": []
    },
    {
      "cell_type": "code",
      "source": [
        "from torchvision.models import resnet50\n",
        "\n",
        "model = resnet50(pretrained=True)\n",
        "model.fc = nn.Linear(model.fc.in_features, 10)\n",
        "\n",
        "\n",
        "model = model.to('cuda' if torch.cuda.is_available() else 'cpu')\n"
      ],
      "metadata": {
        "colab": {
          "base_uri": "https://localhost:8080/"
        },
        "id": "1PI9d2J_y-kH",
        "outputId": "f8403484-93a5-4530-c001-feba0bb66e12"
      },
      "execution_count": 91,
      "outputs": [
        {
          "output_type": "stream",
          "name": "stderr",
          "text": [
            "/usr/local/lib/python3.11/dist-packages/torchvision/models/_utils.py:208: UserWarning: The parameter 'pretrained' is deprecated since 0.13 and may be removed in the future, please use 'weights' instead.\n",
            "  warnings.warn(\n",
            "/usr/local/lib/python3.11/dist-packages/torchvision/models/_utils.py:223: UserWarning: Arguments other than a weight enum or `None` for 'weights' are deprecated since 0.13 and may be removed in the future. The current behavior is equivalent to passing `weights=ResNet50_Weights.IMAGENET1K_V1`. You can also use `weights=ResNet50_Weights.DEFAULT` to get the most up-to-date weights.\n",
            "  warnings.warn(msg)\n",
            "Downloading: \"https://download.pytorch.org/models/resnet50-0676ba61.pth\" to /root/.cache/torch/hub/checkpoints/resnet50-0676ba61.pth\n",
            "100%|██████████| 97.8M/97.8M [00:00<00:00, 164MB/s]\n"
          ]
        }
      ]
    },
    {
      "cell_type": "code",
      "source": [
        "criterion = nn.CrossEntropyLoss()\n",
        "optimizer = optim.Adam(model.parameters(), lr=0.001)\n",
        "scheduler = optim.lr_scheduler.StepLR(optimizer, step_size=7, gamma=0.1)\n"
      ],
      "metadata": {
        "id": "U8FeCMrby_Oz"
      },
      "execution_count": 92,
      "outputs": []
    },
    {
      "cell_type": "code",
      "source": [
        "import pandas as pd\n",
        "df = pd.read_csv('/content/train.csv')\n",
        "print(df.columns)"
      ],
      "metadata": {
        "colab": {
          "base_uri": "https://localhost:8080/"
        },
        "id": "DnBsEOlx2Y7A",
        "outputId": "7a9c2c45-491f-47b4-bc50-e53f305b0805"
      },
      "execution_count": 93,
      "outputs": [
        {
          "output_type": "stream",
          "name": "stdout",
          "text": [
            "Index(['fn', 'class'], dtype='object')\n"
          ]
        }
      ]
    },
    {
      "cell_type": "code",
      "source": [
        "for epoch in range(10):\n",
        "    model.train()\n",
        "    running_loss = 0.0\n",
        "    for inputs, labels in train_loader:\n",
        "        inputs, labels = inputs.to('cuda'), labels.to('cuda')\n",
        "        optimizer.zero_grad()\n",
        "        outputs = model(inputs)\n",
        "        loss = criterion(outputs, labels)\n",
        "        loss.backward()\n",
        "        optimizer.step()\n",
        "        running_loss += loss.item()\n",
        "    scheduler.step()\n",
        "    print(f\"Epoch {epoch+1}, Loss: {running_loss / len(train_loader)}\")\n"
      ],
      "metadata": {
        "colab": {
          "base_uri": "https://localhost:8080/"
        },
        "id": "l7HgMh7czBRl",
        "outputId": "1f7ee20b-456e-4637-9521-c0b4dcf4ae5a"
      },
      "execution_count": 94,
      "outputs": [
        {
          "output_type": "stream",
          "name": "stdout",
          "text": [
            "Epoch 1, Loss: 0.5311443510841816\n",
            "Epoch 2, Loss: 0.2803120811516089\n",
            "Epoch 3, Loss: 0.2407275229058367\n",
            "Epoch 4, Loss: 0.20425746238506431\n",
            "Epoch 5, Loss: 0.18865675053143122\n",
            "Epoch 6, Loss: 0.18090104286605163\n",
            "Epoch 7, Loss: 0.18933110748226126\n",
            "Epoch 8, Loss: 0.09761971102842519\n",
            "Epoch 9, Loss: 0.08112209491392082\n",
            "Epoch 10, Loss: 0.07690605713411215\n"
          ]
        }
      ]
    },
    {
      "cell_type": "code",
      "source": [
        "from torch.utils.data import Dataset\n",
        "from PIL import Image\n",
        "import os\n",
        "\n",
        "class TestDataset(Dataset):\n",
        "    def __init__(self, image_dir, transform=None):\n",
        "        self.image_dir = image_dir\n",
        "        self.image_filenames = sorted([\n",
        "            f for f in os.listdir(image_dir)\n",
        "            if f.lower().endswith(('.jpg', '.jpeg', '.png'))\n",
        "        ])\n",
        "        self.transform = transform\n",
        "\n",
        "    def __len__(self):\n",
        "        return len(self.image_filenames)\n",
        "\n",
        "    def __getitem__(self, idx):\n",
        "        img_name = self.image_filenames[idx]\n",
        "        img_path = os.path.join(self.image_dir, img_name)\n",
        "        image = Image.open(img_path).convert('RGB')\n",
        "        if self.transform:\n",
        "            image = self.transform(image)\n",
        "        return image, img_name\n"
      ],
      "metadata": {
        "id": "fE-_KW_B7c_O"
      },
      "execution_count": 82,
      "outputs": []
    },
    {
      "cell_type": "code",
      "source": [
        "test_dir = '/content/images/test/test'  # ← dein entpackter Ordner\n",
        "test_dataset = TestDataset(image_dir=test_dir, transform=transform)\n",
        "test_loader = DataLoader(test_dataset, batch_size=64, shuffle=False)\n",
        "\n",
        "print(\"📸 Anzahl Testbilder:\", len(test_dataset))\n",
        "print(\"📄 Erste Bildnamen:\", test_dataset.image_filenames[:5])\n",
        "\n"
      ],
      "metadata": {
        "colab": {
          "base_uri": "https://localhost:8080/"
        },
        "id": "g2i9e-ds731s",
        "outputId": "6dc497b4-059f-4686-814b-0f3978fd1a5e"
      },
      "execution_count": 84,
      "outputs": [
        {
          "output_type": "stream",
          "name": "stdout",
          "text": [
            "📸 Anzahl Testbilder: 9000\n",
            "📄 Erste Bildnamen: ['1.jpg', '10.jpg', '100.jpg', '1000.jpg', '1001.jpg']\n"
          ]
        }
      ]
    },
    {
      "cell_type": "code",
      "source": [
        "from sklearn.model_selection import train_test_split\n",
        "\n",
        "# Lade CSV\n",
        "df = pd.read_csv('/content/train.csv')\n",
        "\n",
        "# Split\n",
        "train_df, val_df = train_test_split(df, test_size=0.2, stratify=df['class'], random_state=42)\n"
      ],
      "metadata": {
        "id": "NrLC0wtE8r8p"
      },
      "execution_count": 95,
      "outputs": []
    },
    {
      "cell_type": "code",
      "source": [
        "train_dataset = LandUseDataset(\n",
        "    dataframe=train_df,  # <-- wichtig: KEIN csv_file hier\n",
        "    image_dir='/content/images/train/train',\n",
        "    transform=transform\n",
        ")\n",
        "\n",
        "val_dataset = LandUseDataset(\n",
        "    dataframe=val_df,\n",
        "    image_dir='/content/images/train',\n",
        "    transform=transform\n",
        ")\n",
        "\n",
        "\n",
        "train_loader = DataLoader(train_dataset, batch_size=64, shuffle=True)\n",
        "val_loader = DataLoader(val_dataset, batch_size=64, shuffle=False)\n"
      ],
      "metadata": {
        "id": "pbh14C3S8x4P"
      },
      "execution_count": 96,
      "outputs": []
    },
    {
      "cell_type": "code",
      "source": [
        "print(type(train_df))  # sollte sein: <class 'pandas.core.frame.DataFrame'>\n",
        "print(train_df.head())\n"
      ],
      "metadata": {
        "colab": {
          "base_uri": "https://localhost:8080/"
        },
        "id": "6H7fT_ln9J-N",
        "outputId": "183ffc57-b0c3-49e8-a7b2-25d4acfac63a"
      },
      "execution_count": 97,
      "outputs": [
        {
          "output_type": "stream",
          "name": "stdout",
          "text": [
            "<class 'pandas.core.frame.DataFrame'>\n",
            "              fn          class\n",
            "860      861.jpg        SeaLake\n",
            "16189  16190.jpg  PermanentCrop\n",
            "16507  16508.jpg          River\n",
            "7155    7156.jpg        Highway\n",
            "10712  10713.jpg     AnnualCrop\n"
          ]
        }
      ]
    },
    {
      "cell_type": "code",
      "source": [
        "def evaluate(model, dataloader, class_names):\n",
        "    model.eval()\n",
        "    correct = 0\n",
        "    total = 0\n",
        "    predictions = []\n",
        "    true_labels = []\n",
        "\n",
        "    with torch.no_grad():\n",
        "        for inputs, labels in dataloader:\n",
        "            inputs, labels = inputs.to('cuda'), labels.to('cuda')\n",
        "            outputs = model(inputs)\n",
        "            _, preds = torch.max(outputs, 1)\n",
        "\n",
        "            correct += (preds == labels).sum().item()\n",
        "            total += labels.size(0)\n",
        "\n",
        "            predictions.extend(preds.cpu().numpy())\n",
        "            true_labels.extend(labels.cpu().numpy())\n",
        "\n",
        "    accuracy = correct / total\n",
        "    print(f\"Validation Accuracy: {accuracy:.4f}\")\n",
        "\n",
        "    return predictions, true_labels\n"
      ],
      "metadata": {
        "id": "WZnBHDi89Od9"
      },
      "execution_count": 99,
      "outputs": []
    },
    {
      "cell_type": "code",
      "source": [
        "preds, true = evaluate(model, val_loader, class_names=train_dataset.classes)\n"
      ],
      "metadata": {
        "colab": {
          "base_uri": "https://localhost:8080/"
        },
        "id": "Dwnv7yx59StT",
        "outputId": "3d1aa7e3-a726-42c1-a1cd-5b108794b7b7"
      },
      "execution_count": 100,
      "outputs": [
        {
          "output_type": "stream",
          "name": "stdout",
          "text": [
            "Validation Accuracy: 0.9847\n"
          ]
        }
      ]
    },
    {
      "cell_type": "code",
      "source": [
        "model.eval()\n",
        "predictions = []\n",
        "filenames = []\n",
        "\n",
        "with torch.no_grad():\n",
        "    for inputs, img_names in test_loader:\n",
        "        inputs = inputs.to('cuda')\n",
        "        outputs = model(inputs)\n",
        "        _, preds = torch.max(outputs, 1)\n",
        "        predictions.extend(preds.cpu().numpy())\n",
        "        filenames.extend(img_names)\n",
        "\n",
        "# Klassennamen zurückübersetzen\n",
        "label_names = [train_dataset.idx_to_class[p] for p in predictions]\n",
        "\n",
        "submission = pd.DataFrame({'fn': filenames, 'class': label_names})\n",
        "submission = submission.sort_values('fn').reset_index(drop=True)\n",
        "submission.to_csv('submission.csv', index=False)\n",
        "\n",
        "from google.colab import files\n",
        "files.download('submission.csv')\n",
        "\n",
        "\n"
      ],
      "metadata": {
        "colab": {
          "base_uri": "https://localhost:8080/",
          "height": 17
        },
        "id": "1uB3wtXHzFPM",
        "outputId": "d9ae3cf7-5db6-4033-cb70-cb84e9670335"
      },
      "execution_count": 98,
      "outputs": [
        {
          "output_type": "display_data",
          "data": {
            "text/plain": [
              "<IPython.core.display.Javascript object>"
            ],
            "application/javascript": [
              "\n",
              "    async function download(id, filename, size) {\n",
              "      if (!google.colab.kernel.accessAllowed) {\n",
              "        return;\n",
              "      }\n",
              "      const div = document.createElement('div');\n",
              "      const label = document.createElement('label');\n",
              "      label.textContent = `Downloading \"${filename}\": `;\n",
              "      div.appendChild(label);\n",
              "      const progress = document.createElement('progress');\n",
              "      progress.max = size;\n",
              "      div.appendChild(progress);\n",
              "      document.body.appendChild(div);\n",
              "\n",
              "      const buffers = [];\n",
              "      let downloaded = 0;\n",
              "\n",
              "      const channel = await google.colab.kernel.comms.open(id);\n",
              "      // Send a message to notify the kernel that we're ready.\n",
              "      channel.send({})\n",
              "\n",
              "      for await (const message of channel.messages) {\n",
              "        // Send a message to notify the kernel that we're ready.\n",
              "        channel.send({})\n",
              "        if (message.buffers) {\n",
              "          for (const buffer of message.buffers) {\n",
              "            buffers.push(buffer);\n",
              "            downloaded += buffer.byteLength;\n",
              "            progress.value = downloaded;\n",
              "          }\n",
              "        }\n",
              "      }\n",
              "      const blob = new Blob(buffers, {type: 'application/binary'});\n",
              "      const a = document.createElement('a');\n",
              "      a.href = window.URL.createObjectURL(blob);\n",
              "      a.download = filename;\n",
              "      div.appendChild(a);\n",
              "      a.click();\n",
              "      div.remove();\n",
              "    }\n",
              "  "
            ]
          },
          "metadata": {}
        },
        {
          "output_type": "display_data",
          "data": {
            "text/plain": [
              "<IPython.core.display.Javascript object>"
            ],
            "application/javascript": [
              "download(\"download_806b42d0-332e-477b-869e-66ae7882fcf7\", \"submission.csv\", 176556)"
            ]
          },
          "metadata": {}
        }
      ]
    },
    {
      "cell_type": "code",
      "source": [
        "import os\n",
        "\n",
        "test_dir = '/content/images/test/test'  # ← dein aktueller Pfad\n",
        "files = os.listdir(test_dir)\n",
        "\n",
        "print(\"📁 Anzahl Einträge im Testordner:\", len(files))\n",
        "print(\"Beispiel-Dateien:\", files[:5])\n",
        "\n"
      ],
      "metadata": {
        "colab": {
          "base_uri": "https://localhost:8080/"
        },
        "id": "VPBpAlcMHb0M",
        "outputId": "e72fdaf4-f397-4525-933e-f22225c211b0"
      },
      "execution_count": 81,
      "outputs": [
        {
          "output_type": "stream",
          "name": "stdout",
          "text": [
            "📁 Anzahl Einträge im Testordner: 9000\n",
            "Beispiel-Dateien: ['6118.jpg', '1863.jpg', '5714.jpg', '4296.jpg', '7774.jpg']\n"
          ]
        }
      ]
    }
  ]
}